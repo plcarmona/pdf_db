{
 "cells": [
  {
   "cell_type": "code",
   "execution_count": 2,
   "metadata": {},
   "outputs": [
    {
     "name": "stderr",
     "output_type": "stream",
     "text": [
      "100%|██████████| 74/74 [04:52<00:00,  3.95s/it]\n"
     ]
    }
   ],
   "source": [
    "# %%\n",
    "#!pip install sentence-transformers\n",
    "import os\n",
    "from tqdm import tqdm\n",
    "import chromadb\n",
    "from chromadb.config import Settings\n",
    "from langchain_chroma import Chroma\n",
    "from langchain_community.document_loaders import PyPDFLoader\n",
    "from langchain_community.embeddings.sentence_transformer import (\n",
    "    SentenceTransformerEmbeddings,\n",
    ")\n",
    "from langchain_text_splitters import RecursiveCharacterTextSplitter\n",
    "\n",
    "persistent_client = chromadb.PersistentClient()\n",
    "collection = persistent_client.get_or_create_collection(\"agua\")\n",
    "embedding_function = SentenceTransformerEmbeddings(model_name=\"all-MiniLM-L6-v2\")\n",
    "\n",
    "pdf = [os.path.join('Papers',pdf) for pdf in os.listdir('Papers') if pdf.endswith(\".pdf\")]\n",
    "file_path = pdf[0]\n",
    "\n",
    "v = Chroma(client=persistent_client,\n",
    "                collection_name=\"agua\",\n",
    "                embedding_function=embedding_function)\n",
    "\n",
    "for file_path in tqdm(pdf):\n",
    "    if os.path.exists('done.txt'):\n",
    "        with open('done.txt', 'r') as f:\n",
    "            done = f.read().split('\\n')\n",
    "        if file_path in done:\n",
    "            continue\n",
    "    loader = PyPDFLoader(file_path)\n",
    "    document = loader.load()\n",
    "    text_splitter = RecursiveCharacterTextSplitter(chunk_size=1000, chunk_overlap=100)\n",
    "    chunked_documents = text_splitter.split_documents(document)\n",
    "    documents=chunked_documents\n",
    "    for d in documents:\n",
    "        d.metadata = {\n",
    "            \"title\": file_path,\n",
    "            \"source\": \"pdf\",\n",
    "            \"author\": \"unknown\",\n",
    "            \"year\": \"unknown\",\n",
    "        }\n",
    "    \n",
    "    v.add_documents(\n",
    "        documents=documents\n",
    "    )\n",
    "    with open('done.txt', 'a') as f:\n",
    "        f.write(file_path+'\\n')\n",
    "    "
   ]
  },
  {
   "cell_type": "code",
   "execution_count": 6,
   "metadata": {},
   "outputs": [],
   "source": [
    "results = v.similarity_search(\n",
    "    \"Technologies for water treatment\",\n",
    "    k=20,\n",
    ")"
   ]
  },
  {
   "cell_type": "code",
   "execution_count": 7,
   "metadata": {},
   "outputs": [
    {
     "data": {
      "text/plain": [
       "[Document(metadata={'author': 'unknown', 'source': 'pdf', 'title': 'Papers/Vikesland - Nanosensors for water quality monitoring.pdf', 'year': 'unknown'}, page_content='residual disinfectant is added immediately prior to water leaving the \\nplant to minimize pathogen concentrations. Within the distribution system, treated water can be subject to intrusion by waste-, surface- or ground-water and its quality can be degraded due to the leach\\n-\\ning of contaminants (for example, lead, copper, polymers) from plumbing materials or by bacterial re-growth\\n39. Water treatment \\nplants, water towers and water taps are readily visible components of centralized treatment systems; however, their relative importance \\nas sampling locations can be dwarfed by the large volume and spa\\n-\\ntial diversity of the drinking water distribution system and the pipe \\nnetworks within buildings (Fig. 2). This hidden infrastructure com -\\nprises a highly complex engineered ecosystem whose characteristics are affected and defined by operational and environmental param\\n-'),\n",
       " Document(metadata={'author': 'unknown', 'source': 'pdf', 'title': 'Papers/Vikesland - Nanosensors for water quality monitoring.pdf', 'year': 'unknown'}, page_content='36,37 these concerns must be considered in the earliest \\nstages of nanosensor design. Continued advancement of the applied nanosensor field requires focus on applications where nanosensors \\ntruly provide novel capacity or added utility. In the context of water \\nquality monitoring, I suggest three potential focal themes.\\nImproved monitoring of water distribution networks. The current \\napproach to water supply in much of the world relies on centralized \\ntreatment and distribution\\n38. Under this paradigm, water is treated \\nat a centralized plant using a number of physical and chemical pro -\\ncesses (with the exact combination a function of the initial quality of the water being treated) prior to distribution. In many countries, a \\nresidual disinfectant is added immediately prior to water leaving the'),\n",
       " Document(metadata={'author': 'unknown', 'source': 'pdf', 'title': 'Papers/Nallakaruppan et al - Reliable water quality prediction and parametric analysis using explainable AI models.pdf', 'year': 'unknown'}, page_content='19\\nVol.:(0123456789) Scientific Reports  |         (2024) 14:7520  | https://doi.org/10.1038/s41598-024-56775-y\\nwww.nature.com/scientificreports/of sustainable development in the environmental aspects. Since the water is an irreplaceable and finite, the \\ndemand of the water is increasing with the industrial evolution and the water requirements on manufacturing \\nand production industries would be very much essential as ever. The challenge is enhancement of the water \\nharvesting, recycling and conservation. For all the above said processes quality of the water is the common \\nessential requirement. Thus the quality of the water is more critical in all futuristic technological developments.\\nResearch finding of the proposed work\\nThe following items are presented as the findings are outcomes of the proposed work\\n• The proposed work performs an exploratory analysis with XAI implementation providing an ability'),\n",
       " Document(metadata={'author': 'unknown', 'source': 'pdf', 'title': 'Papers/Marinho et al - Advances in Technological Research for Online and In Situ Water Quality Monitoringâ\\x80\\x94A Review.pdf', 'year': 'unknown'}, page_content='*Correspondence: marinho.gabriel@usp.br (G.M.e.S.); ﬁlippo.ghiglieno@df.ufscar.br (F.G.)\\nAbstract: Monitoring water quality is an essential tool for the control of pollutants and pathogens that\\ncan cause damage to the environment and human health. However, water quality analysis is usually\\nperformed in laboratory environments, often with the use of high-cost equipment and qualiﬁed\\nprofessionals. With the progress of nanotechnology and the advance in engineering materials,\\nseveral studies have shown, in recent years, the development of technologies aimed at monitoring\\nwater quality, with the ability to reduce the costs of analysis and accelerate the achievement of\\nresults for management and decision-making. In this work, a review was carried out on several\\nlow-cost developed technologies and applied in situ for water quality monitoring. Thus, new\\nalternative technologies for the main physical (color, temperature, and turbidity), chemical (chlorine,'),\n",
       " Document(metadata={'author': 'unknown', 'source': 'pdf', 'title': 'Papers/Marinho et al - Advances in Technological Research for Online and In Situ Water Quality Monitoringâ\\x80\\x94A Review.pdf', 'year': 'unknown'}, page_content='Sustainability 2022 ,14, 5059 22 of 28\\n4. Conclusions\\nMonitoring water quality is an important water management tool, acting to control\\npollution and minimize impacts on the environment and human health. However, due to\\nthe high cost of monitoring, through the sampling process, sample preservation, transport,\\nqualiﬁed professionals, and the use of expensive laboratory equipment, unfortunately,\\nthere is a lack of water quality data for the correct management of this resource. With\\nthe development of new technologies and the progress of nanotechnology and material\\nsciences, integrated with the Internet of Things, it is possible to accelerate and minimize\\nthe costs of obtaining water quality data. In this review, several studies were described\\nthat presented the development of low-cost technologies, with in situ applications, that can\\naccelerate the collection of data for the monitoring of physical, chemical, and biological'),\n",
       " Document(metadata={'author': 'unknown', 'source': 'pdf', 'title': 'Papers/Lake Restoration Handbook.pdf', 'year': 'unknown'}, page_content='reduce their effects. Mitigation may include a combination of physical (mechanical),\\nchemical and, on occasions, biological applications. Chapter 6examines the possible\\noptions for removing or preventing thermal strati ﬁcation in degraded lakes by\\naccentuation of lake mixing as a strategy for rehabilitation (see Boxes 6.1and\\n6.2). Technical detail is provided on aeration to induce vertical movement of the\\nwater column as well as several water column mixing systems, and the option of\\nbottom water reoxygenation without destrati ﬁcation. The rehabilitation potential of\\ntraditional and new engineering devices needs to be tied to the requirements of the\\nend users of the water, be it for ecosystem recovery and/or external uses\\n(e.g. drinking, irrigation or recreation). Chapter 6refers to the key points to consider\\nin any mechanical process for enhancing water quality as part of lake restoration\\nand/or management, including the lake size, depth and morphometry, engineering'),\n",
       " Document(metadata={'author': 'unknown', 'source': 'pdf', 'title': 'Papers/Shams et al - Water quality prediction using machine learning models based on grid search method.pdf', 'year': 'unknown'}, page_content='ity is critical [2]. Water quality is critical to the long-term viability of a diversion plan. The \\nwater of poor quality may also be costly since resources must be shifted to repair water \\ndelivery infrastructure whenever an issue emerges. The demand for enhanced water man-\\nagement and water quality control has been rising for these objectives to assure safe drink -\\ning water at reasonable costs. To address these issues, systematic assessments of freshwa-\\nter, disposal systems, and organizational monitoring issues are necessary [3]. Forecasting \\nwater quality entails anticipating fluctuation characteristics in a water system’s health at \\na specific moment. Assessment of water quality is critical for water quality planning and \\nregulation. Water pollution avoidance and regulation methods may be improved by fore-\\ncasting future updates\\xa0in water cleanliness at varying degrees of pollution and designing'),\n",
       " Document(metadata={'author': 'unknown', 'source': 'pdf', 'title': 'Papers/Marinho et al - Advances in Technological Research for Online and In Situ Water Quality Monitoringâ\\x80\\x94A Review.pdf', 'year': 'unknown'}, page_content='recreation, irrigation, and public supply, for example [ 40,41]. Nowadays, there are different\\nnumbers of models developed by different international organizations and used for WQI\\ncalculation, such as the National Sanitation Foundation Water Quality Index (NSFWQI)\\nand the Weighted Arithmetic Water Quality Index (WAWQI), for example [ 42].\\n3. Development of Technologies for Water Quality Monitoring\\nThe main technologies under development are based on colorimetric techniques or\\nelectrochemical sensors to analyze drinking water, rivers, lakes, and salt water [16,43,44].\\nHowever, as will be presented later, there are also technologies and methodologies capable\\nof simplifying and improving existing water monitoring techniques, reducing costs, inte-\\ngrating them with the IoT, and accelerating data acquisition, such as the use of automatic\\nsamplers and autonomous analyzers.\\nAccording to Alberti et al. [ 43], with the progress of nanotechnology and materials'),\n",
       " Document(metadata={'author': 'unknown', 'source': 'pdf', 'title': 'Papers/Vikesland - Nanosensors for water quality monitoring.pdf', 'year': 'unknown'}, page_content='35. Pelaz, B. et al. Diverse applications of nanomedicine. ACS Nano 11, \\n2313–2381 (2017).\\n 36. Huck, P . M. in Conflict Resolution in Water Resources and Environmental \\nManagement (eds Hipel, K. W . et al.) Ch. 8, 145–158 (Springer, Cham, 2015).\\n 37. Westerhoff, P ., Alvarez, P ., Li, Q. L., Gardea-Torresdey, J. & Zimmerman,  J. Overcoming implementation barriers for nanotechnology in drinking water treatment. Environ. Sci. Nano 3, 1241–1253 (2016).\\n 38. Crittenden, J., Trussell, R. R., Hand, D. W ., Howe, K. J. & Tchobanoglous, G. MWH’s Water Treatment: Principles and Design 3rd edn (Wiley, \\nHoboken, 2012).\\n 39. Dai, D. et al. Factors shaping the human exposome in the built environment: Opportunities for engineering control. Environ. Sci. Technol. 51, 7759–7774 (2017).\\n 40. National Research Council. Drinking Water Distribution Systems: Assessing and Reducing Risks  (The National Academies Press, Washington, DC, 2006).'),\n",
       " Document(metadata={'author': 'unknown', 'source': 'pdf', 'title': 'Papers/Vikesland - Nanosensors for water quality monitoring.pdf', 'year': 'unknown'}, page_content='impractical\\n37,65. Furthermore, efforts to increase local resiliency \\nagainst droughts and other disasters have led to a growing emphasis on decentralization. For these reasons, decentralized or POU-based \\nwater treatment is increasingly being considered a viable treatment \\napproach. POUs range in design from simple low-cost filters to more complex and costly engineered designs employing nanopar\\n-\\nticles or engineered filters. Current estimates suggest that the POU marketplace exceeds US$20 million annually, a fact supported by the observation that across both China and India millions of house\\n-\\nholds are currently using POU devices to treat tap water of ques -\\ntionable quality66. While the actual health benefits of each type of \\nPOU have yet to be definitively established67, it is nonetheless clear \\nthat their efficacy in the field must be assured68. In this context, \\nthe development of POU devices with integrated nanosensors that quantify performance should be encouraged.'),\n",
       " Document(metadata={'author': 'unknown', 'source': 'pdf', 'title': 'Papers/Marinho et al - Advances in Technological Research for Online and In Situ Water Quality Monitoringâ\\x80\\x94A Review.pdf', 'year': 'unknown'}, page_content='Water is an important natural resource for life on earth and for human activities and,\\ntherefore, it is necessary to have abundant clean water to quench thirst, irrigate ﬁelds,\\nand sustain all forms of life in the environment [ 1]. Several sources contribute negatively\\nto changing water quality, mainly caused by human action, such as population growth,\\nindustrialization, urbanization, agriculture, domestic sewage, and poor management [ 2,3].\\nTo improve water quality, the 2030 Agenda for Sustainable Development established, as a\\ngoal for 2030, the availability and sustainable management of water and basic sanitation\\nfor all human beings, with the improvement of water quality, the reduction in pollution,\\nand the elimination of dangerous pollutants [ 4].\\nWater quality monitoring allows the identiﬁcation and quantiﬁcation of polluting\\nsubstances that can be compared to acceptable standards for each location, being a strate-'),\n",
       " Document(metadata={'author': 'unknown', 'source': 'pdf', 'title': 'Papers/Mo et al - Automatic Measurement and Reporting System of Water Quality Based on GSM.pdf', 'year': 'unknown'}, page_content='more economical, convenient and fast. The system has \\ngood flexibility. Only  by replacing  the corresponding \\nsensors and changing the relevant software programs,  this \\nsystem  can be used to monitor other water quality \\nparameters. The operation is simple. The system can be \\nexpanded to monitor hydrologic, air pollution, industrial \\nand agricultural production and so on. It has widespread \\napplication and extension value. \\n \\nREFERENCES \\n[1]  Liu Yan, “Analysis of several water quality indicators in \\nindustrial effluent,” Applied Science,2009, 6:147.(in Chinese) \\n[2]  Sun Xiaodong, Jing Yunpeng, “Sensors’ application to \\nenvironmental monitoring,” Measurement and Testing \\nTechnology, 2006, 33(10):38-39. (in Chinese) \\n[3]  Zhou Na, Zhu Yantao, ĀSensors in the application of water quality \\nmonitoring, ā Environmental Science Tribune, 2009 , 28 \\n(Supplement): 119- 123. (in Chinese) \\n[4]  Haron Nazleeni Samiha ˈMahamad Mohd Khuzaimi B. ˈ'),\n",
       " Document(metadata={'author': 'unknown', 'source': 'pdf', 'title': 'Papers/Marinho et al - Advances in Technological Research for Online and In Situ Water Quality Monitoringâ\\x80\\x94A Review.pdf', 'year': 'unknown'}, page_content='for example, is also the association of Real-Time Control systems (RTC) and Nature-Based\\nSolutions (NBS) in urban drainage infrastructures, as described by Brasil et al. [ 21].\\nThus, this work aims at a literary review that brings together technologies and portable\\nsensors aimed at monitoring the quality of water in situ (regarding physical, chemical, and\\nbiological water quality parameters), at low cost, which allows a prescreening of the condi-\\ntion of the water as a monitoring tool for decision-making and good water management.\\n2. Water Monitoring Parameters\\nAlthough there are several parameters for monitoring water quality, only a few are\\nused as key parameters in the monitoring, which can vary according to the location or the\\npurpose of water use [ 22]. Regarding water use, according to Boyd [ 22] and Alley [ 23],\\nwhen intended for human consumption, such as drinking, for example, the water must not'),\n",
       " Document(metadata={'author': 'unknown', 'source': 'pdf', 'title': 'Papers/Marinho et al - Advances in Technological Research for Online and In Situ Water Quality Monitoringâ\\x80\\x94A Review.pdf', 'year': 'unknown'}, page_content='5.8 3.9\\nAdvances\\tin\\tTechnological\\nResearch\\tfor\\tOnline\\tand\\tIn\\nSitu\\tWater\\tQuality\\tMonitoring\\n—A\\tReview\\nGabriel\\tMarinho\\te\\tSilva,\\tDaiane\\tFerreira\\tCampos,\\tJo sé\\tArtur\\tTeixeira\\tBrasil,\\nMarcel\\tTremblay,\\tEduardo\\tMario\\tMendiondo\\tand\\tFilipp o\\tGhiglieno\\nSpecial\\tIssue\\nGreen\\tTechnologies\\tfor\\tUrban\\tWater\\tManagement\\nEdited\\tby\\nDr.\\tKefeng\\tZhang,\\tDr.\\tVeljko\\tProdanovic,\\tProf.\\tDr.\\t Eduardo\\tMário\\tMendiondo\\tand\\nProf.\\tDr.\\tAleksandar\\tDjukićReview Editor’s\\tChoice\\nhttps://doi.org/10.3390/su14095059'),\n",
       " Document(metadata={'author': 'unknown', 'source': 'pdf', 'title': 'Papers/Zhu et al - A review of the application of machine learning in water quality evaluation.pdf', 'year': 'unknown'}, page_content='technology limitations. (2) As the conditions in real water treatment and\\nmanagement systems can be extremely complex, the current algorithms\\nmay only be applied to speci ﬁc systems, which hinders the wide appli-\\ncation of machine learning approaches. (3) The implementation of ma-\\nchine learning algorithms in practical applications requires researchers\\nto have certain professional background knowledge.\\nTo overcome the above-mentioned challenges, the following aspects\\nshould be considered in future research and engineering practices: (1)\\nMore advanced sensors, including soft sensors, should be developed and\\napplied in water quality monitoring to collect suf ﬁciently accurate data\\nto facilitate the application of machine learning approaches. (2) The\\nfeasibility and reliability of the algorithms should be improved, and more\\nuniversal algorithms and models should be developed according to the\\nwater treatment and management requirements. (3) Interdisciplinary'),\n",
       " Document(metadata={'author': 'unknown', 'source': 'pdf', 'title': 'Papers/Lake Restoration Handbook.pdf', 'year': 'unknown'}, page_content='device in December 2007 ’. However, ‘whilst there has been a considerable reduction\\nin the amount of toxic blue-green algae (cyanobacteria) blooms, rich algae\\npopulations are still present in the Lake ’(WDC 2009 ).\\n6.9 Future Developments\\nTechniques for destrati ﬁcation and mixing of lakes to manage water quality have\\nimproved rapidly over the last few decades as the processes driving deoxygenation\\nand lake degradation become better understood. The rehabilitation potential of\\ntraditional and new engineering devices needs to be tempered with the need to\\nmeet the requirements of the end user of the water, be it the biota living in the lake\\nor the external users of the lake water for drinking, irrigation or recreation. The\\nbottom line is that, whatever device is used, it must be ﬁt-for-purpose.\\nKey points to consider will include:\\n\\x81Size and depth: the mechanical devices need to match the size of the lake and\\nproblem. Insuf ﬁcient mixing power may exacerbate the problem while too much'),\n",
       " Document(metadata={'author': 'unknown', 'source': 'pdf', 'title': 'Papers/Nallakaruppan et al - Reliable water quality prediction and parametric analysis using explainable AI models.pdf', 'year': 'unknown'}, page_content='involvement of a subject matter expert is a missing point in the current research. Despite all the implementation \\nand analysis from an engineering perspective, the involvement of an environmental scientist in any aspect of \\nwater research would contribute towards the enhancement of research quality.\\nConfusing solids\\nThe proposed work identifies Solids as the primary influencing factor that affects potability. In real-world \\napplications, solids can be of any form. For example, in sewage water treatment plants it can be either mud, \\nFat-Oil-Grease(FOG), or any other substances. Every solid wastage has its way of filtration and impact on water \\nquality, which makes the recordings unstable from time to time. The attributes of research are too complex to \\nhandle in real-life scenarios, which acts as an inevitable yet detrimental impact.\\nEnvironmental challenges\\nWater resources are under serious threat due to water scarcity, water contamination, water conflicts and climate'),\n",
       " Document(metadata={'author': 'unknown', 'source': 'pdf', 'title': 'Papers/Nallakaruppan et al - Reliable water quality prediction and parametric analysis using explainable AI models.pdf', 'year': 'unknown'}, page_content='permissible limits, which may result in health problems like respiratory illnesses, diarrhoea, cholera, dengue, \\nmalaria, anaemia, and skin problems. A study evaluating metal pollution management and mitigation tactics \\non soil and water was presented by Wang et\\xa0al.9. In this study, the remediation of metal contamination from \\nwater and soil utilising chemical, physical, and biological approaches was discussed. In this study, the current \\nmethods for reducing heavy metal pollution of the soil and water are examined. Elehinafe et\\xa0al.10 discussed the \\nimportance of water contamination and examined the main cause of water scarcity. The proposed work discussed \\nthe effect of hazardous chemicals on the water, including pesticides, heavy metals, and micro-pollutants. This \\nstudy outlined the numerous technologies that are currently available to eliminate hazardous materials and \\nprovide sustainable clean water resources. Mu et\\xa0al.11proposed a solution for the investigation into farmers’'),\n",
       " Document(metadata={'author': 'unknown', 'source': 'pdf', 'title': 'Papers/Zhu et al - A review of the application of machine learning in water quality evaluation.pdf', 'year': 'unknown'}, page_content='[60] D. Wang, J. Shen, S. Zhu, G. Jiang, Model predictive control for chlorine dosing of\\ndrinking water treatment based on support vector machine model, Desalination\\nWater Treat. 173 (2020) 133 –141, https://doi.org/10.5004/dwt.2020.24144 .\\n[61] M. Garrido Baserba, L. Corominas, U. Cortes, D. Rosso, M. Poch, The fourth-\\nrevolution in the water sector encounters the digital revolution, Environ. Sci.\\nTechnol. 54 (2020) 4698 –4705, https://doi.org/10.1021/acs.est.9b04251 .\\n[62] Y.X. Yuan, W.Y. Wu, J.L. Gao, K. Chang, Water quality comprehensive evaluation\\nmethod for large water distribution network based on clustering analysis, J.\\nHydroinf. 13 (2011) 390 –400, https://doi.org/10.2166/hydro.2011.021 .\\n[63] E. Radzka, J. Jankowska, K. Rymuza, Principal component analysis and cluster\\nanalysis in multivariate assessment of water quality, Journal of Ecological\\nEngineering 18 (2017) 92 –96,https://doi.org/10.12911/22998993/68141 .'),\n",
       " Document(metadata={'author': 'unknown', 'source': 'pdf', 'title': 'Papers/Marinho et al - Advances in Technological Research for Online and In Situ Water Quality Monitoringâ\\x80\\x94A Review.pdf', 'year': 'unknown'}, page_content='ﬂuorine, phosphorus, metals, nitrogen, dissolved oxygen, pH, and oxidation–reduction potential),\\nand biological (total coliforms, Escherichia coli , algae, and cyanobacteria) water quality parameters\\nwere described. It was observed that there has been an increase in the number of publications related\\nto the topic in recent years, mainly since 2012, with 641 studies being published in 2021. The main\\nnew technologies developed are based on optical or electrochemical sensors, however, due to the\\nrecent development of these technologies, more robust analyses and evaluations in real conditions are\\nessential to guarantee the precision and repeatability of the methods, especially when it is desirable\\nto compare the values with government regulatory standards.\\nKeywords: water quality; in situ; sensors; green technology; water monitoring\\n1. Introduction\\nWater is an important natural resource for life on earth and for human activities and,')]"
      ]
     },
     "execution_count": 7,
     "metadata": {},
     "output_type": "execute_result"
    }
   ],
   "source": [
    "results"
   ]
  },
  {
   "cell_type": "code",
   "execution_count": 10,
   "metadata": {},
   "outputs": [
    {
     "data": {
      "text/plain": [
       "AIMessage(content='There are several technologies used for water treatment, which can be categorized into physical, chemical, and biological methods. Here are some of the most common ones:\\n\\n**Physical Methods:**\\n\\n1. **Filtration**: Removing suspended particles and contaminants from water using filters made of materials like sand, gravel, or membranes.\\n2. **Coagulation and Flocculation**: Adding chemicals to remove dirt and other suspended particles by causing them to clump together and settle out of the water.\\n3. **Sedimentation**: Allowing suspended particles to settle out of the water under gravity.\\n4. **Centrifugation**: Using a spinning motion to separate liquids and solids.\\n\\n**Chemical Methods:**\\n\\n1. **Disinfection**: Killing bacteria, viruses, and other microorganisms using chlorine or other disinfectants.\\n2. **Chlorination**: Adding chlorine gas or hypochlorite solution to water to remove pathogens and odors.\\n3. **Ozonation**: Using ozone gas to kill bacteria and other microorganisms.\\n4. **Activated Carbon Filtration**: Using activated carbon to remove impurities, taste, and odor from water.\\n\\n**Biological Methods:**\\n\\n1. **Biological Nutrient Removal (BNR)**: Using bacteria and other microorganisms to break down organic matter in wastewater.\\n2. **Aerobic Treatment**: Providing oxygen for microorganisms to decompose organic matter in wastewater.\\n3. **Anaerobic Treatment**: Decomposing organic matter without the presence of oxygen.\\n4. **Biological Filtration**: Using a living filter medium, such as plants or bacteria, to remove impurities from water.\\n\\n**Advanced Technologies:**\\n\\n1. **Reverse Osmosis (RO)**: Forcing water through a semi-permeable membrane to remove dissolved solids and other impurities.\\n2. **Ultrafiltration (UF)**: Using membranes with smaller pores than RO to remove suspended particles and other impurities.\\n3. **Nanofiltration (NF)**: Using membranes with even smaller pores than UF to remove dissolved solids and other impurities.\\n4. **Electrocoagulation**: Using an electric current to remove contaminants from water by causing them to coagulate and settle out.\\n5. **Advanced Oxidation Processes (AOPs)**: Using oxidants like ozone, chlorine dioxide, or hydrogen peroxide to break down organic matter and other impurities.\\n6. **Ion Exchange Systems**: Exchanging ions in the water with ions from a resin to remove dissolved solids and other impurities.\\n7. **Membrane Distillation**: Using heat to evaporate water from a membrane, which is then condensed back into liquid form.\\n\\n**Emerging Technologies:**\\n\\n1. **Graphene-based Membranes**: Using graphene-based membranes to remove contaminants from water with high efficiency.\\n2. **Biochar-based Filtration**: Using biochar (a type of charcoal) to remove impurities and pollutants from water.\\n3. **Algal-Based Systems**: Using algae to remove nutrients and other pollutants from wastewater.\\n\\nThese are just some of the technologies used for water treatment. The choice of technology depends on the specific needs and requirements of the water being treated, as well as the cost and efficiency considerations.', response_metadata={'model': 'llama3.1', 'created_at': '2024-09-04T21:33:08.045669727Z', 'message': {'role': 'assistant', 'content': ''}, 'done_reason': 'stop', 'done': True, 'total_duration': 9259381943, 'load_duration': 57968664, 'prompt_eval_count': 16, 'prompt_eval_duration': 39673000, 'eval_count': 658, 'eval_duration': 8961548000}, id='run-8d3700ee-caa0-4b04-bc35-f844d8117d02-0', usage_metadata={'input_tokens': 16, 'output_tokens': 658, 'total_tokens': 674})"
      ]
     },
     "execution_count": 10,
     "metadata": {},
     "output_type": "execute_result"
    }
   ],
   "source": [
    "from langchain_ollama import ChatOllama\n",
    "\n",
    "\n",
    "llm = ChatOllama(model ='llama3.1')\n",
    "\n",
    "\"\"\" \n",
    "Para open ai\n",
    "pip install langchain-openai\n",
    "from langchain_openai import OpenAI\n",
    "if \"OPENAI_API_KEY\" not in os.environ:\n",
    "    os.environ[\"OPENAI_API_KEY\"] = getpass.getpass(\"Enter your OpenAI API key: \")\n",
    "\n",
    "llm = OpenAI(model=\"gpt-3.5-turbo\")\n",
    "\"\"\"\n",
    "\n",
    "messages = [\n",
    "    (\n",
    "        \"system\",\n",
    "        f\"Context{results}\",\n",
    "    ),\n",
    "    (\"Technologies for water treatment\"),\n",
    "]\n",
    "llm.invoke(messages)"
   ]
  },
  {
   "cell_type": "markdown",
   "metadata": {},
   "source": [
    "There are several technologies used for water treatment, which can be categorized into physical, chemical, and biological methods. Here are some of the most common ones:\n",
    "**Physical Methods:**\n",
    "1. **Filtration**: Removing suspended particles and contaminants from water using filters made of materials like sand, gravel, or membranes.\n",
    "2. **Coagulation and Flocculation**: Adding chemicals to remove dirt and other suspended particles by causing them to clump together and settle out of the water.\n",
    "3. **Sedimentation**: Allowing suspended particles to settle out of the water under gravity.\n",
    "4. **Centrifugation**: Using a spinning motion to separate liquids and solids.\n",
    "**Chemical Methods:**\n",
    "1. **Disinfection**: Killing bacteria, viruses, and other microorganisms using chlorine or other disinfectants.\n",
    "2. **Chlorination**: Adding chlorine gas or hypochlorite solution to water to remove pathogens and odors.\n",
    "3. **Ozonation**: Using ozone gas to kill bacteria and other microorganisms.\n",
    "4. **Activated Carbon Filtration**: Using activated carbon to remove impurities, taste, and odor from water.\n",
    "**Biological Methods:**\n",
    "1. **Biological Nutrient Removal (BNR)**: Using bacteria and other microorganisms to break down organic matter in wastewater.\n",
    "2. **Aerobic Treatment**: Providing oxygen for microorganisms to decompose organic matter in wastewater.\n",
    "3. **Anaerobic Treatment**: Decomposing organic matter without the presence of oxygen.\n",
    "4. **Biological Filtration**: Using a living filter medium, such as plants or bacteria, to remove impurities from water.\n",
    "**Advanced Technologies:**\n",
    "1. **Reverse Osmosis (RO)**: Forcing water through a semi-permeable membrane to remove dissolved solids and other impurities.\n",
    "2. **Ultrafiltration (UF)**: Using membranes with smaller pores than RO to remove suspended particles and other impurities.\n",
    "3. **Nanofiltration (NF)**: Using membranes with even smaller pores than UF to remove dissolved solids and other impurities.\n",
    "4. **Electrocoagulation**: Using an electric current to remove contaminants from water by causing them to coagulate and settle out.\n",
    "5. **Advanced Oxidation Processes (AOPs)**: Using oxidants like ozone, chlorine dioxide, or hydrogen peroxide to break down organic matter and other impurities.\n",
    "6. **Ion Exchange Systems**: Exchanging ions in the water with ions from a resin to remove dissolved solids and other impurities.\n",
    "7. **Membrane Distillation**: Using heat to evaporate water from a membrane, which is then condensed back into liquid form.\n",
    "**Emerging Technologies:**\n",
    "1. **Graphene-based Membranes**: Using graphene-based membranes to remove contaminants from water with high efficiency.\n",
    "2. **Biochar-based Filtration**: Using biochar (a type of charcoal) to remove impurities and pollutants from water.\n",
    "3. **Algal-Based Systems**: Using algae to remove nutrients and other pollutants from wastewater.\n",
    "These are just some of the technologies used for water treatment. The choice of technology depends on the specific needs and requirements of the water being treated, as well as the cost and efficiency considerations."
   ]
  }
 ],
 "metadata": {
  "kernelspec": {
   "display_name": "3.11",
   "language": "python",
   "name": "python3"
  },
  "language_info": {
   "codemirror_mode": {
    "name": "ipython",
    "version": 3
   },
   "file_extension": ".py",
   "mimetype": "text/x-python",
   "name": "python",
   "nbconvert_exporter": "python",
   "pygments_lexer": "ipython3",
   "version": "3.11.8"
  }
 },
 "nbformat": 4,
 "nbformat_minor": 2
}
